{
 "cells": [
  {
   "cell_type": "code",
   "execution_count": null,
   "metadata": {
    "collapsed": false,
    "deletable": true,
    "editable": true
   },
   "outputs": [],
   "source": [
    "import os\n",
    "os.environ[\"CUDA_DEVICE_ORDER\"]=\"PCI_BUS_ID\"\n",
    "os.environ[\"CUDA_VISIBLE_DEVICES\"]=\"1\"\n",
    "\n",
    "import tensorflow as tf\n",
    "from keras import backend as K\n",
    "K.set_image_dim_ordering('th') \n",
    "\n",
    "import numpy as np\n",
    "import pandas as pd\n",
    "import cv2\n",
    "import zarr\n",
    "import glob\n",
    "import matplotlib.pyplot as plt\n",
    "%matplotlib inline\n",
    "\n",
    "from keras.models import Sequential, load_model, Model\n",
    "from keras.layers import Dense, Dropout, Activation, Flatten\n",
    "from keras.layers import Input\n",
    "from keras.optimizers import Adam, SGD, RMSprop, Nadam\n",
    "\n",
    "from keras.layers.convolutional import Convolution3D, MaxPooling3D, UpSampling3D\n",
    "from keras.layers.advanced_activations import PReLU\n",
    "from keras.layers import BatchNormalization, GlobalAveragePooling3D, GlobalMaxPooling3D\n",
    "from keras.callbacks import EarlyStopping, ModelCheckpoint\n",
    "from keras.layers.core import SpatialDropout3D\n",
    "from keras.utils.np_utils import to_categorical\n",
    "\n",
    "\n",
    "from preds3d_utils import *\n",
    "from preds3d_models_exp import *"
   ]
  },
  {
   "cell_type": "markdown",
   "metadata": {
    "deletable": true,
    "editable": true
   },
   "source": [
    "### 1398 stage1 original examples"
   ]
  },
  {
   "cell_type": "code",
   "execution_count": null,
   "metadata": {
    "collapsed": true
   },
   "outputs": [],
   "source": [
    "def classifier(kernel_size, pool_size):\n",
    "    model = Sequential()\n",
    "\n",
    "    model.add(Convolution3D(16, kernel_size[0], kernel_size[1], kernel_size[2],\n",
    "                            border_mode='valid',\n",
    "                            input_shape=(1, 136, 168, 168)))\n",
    "    model.add(Activation('relu'))\n",
    "    model.add(MaxPooling3D(pool_size=pool_size))\n",
    "    model.add(Convolution3D(32, kernel_size[0], kernel_size[1], kernel_size[2]))\n",
    "    model.add(Activation('relu'))\n",
    "    model.add(MaxPooling3D(pool_size=pool_size))\n",
    "    model.add(Convolution3D(64, kernel_size[0], kernel_size[1], kernel_size[2]))\n",
    "    model.add(Activation('relu'))\n",
    "    model.add(MaxPooling3D(pool_size=pool_size))\n",
    "    model.add(Dropout(0.25))\n",
    "\n",
    "    model.add(Flatten())\n",
    "    model.add(Dense(256))\n",
    "    model.add(Activation('relu'))\n",
    "    model.add(Dropout(0.5))\n",
    "    model.add(Dense(128))\n",
    "    model.add(Activation('relu'))\n",
    "    model.add(Dropout(0.5))\n",
    "    model.add(Dense(2))\n",
    "    model.add(Activation('softmax'))\n",
    "    model.compile(loss='categorical_crossentropy', optimizer = Adam(lr=5e-5), metrics = ['accuracy'])\n",
    "    return model"
   ]
  },
  {
   "cell_type": "code",
   "execution_count": null,
   "metadata": {
    "collapsed": true,
    "deletable": true,
    "editable": true
   },
   "outputs": [],
   "source": [
    "def classifier_exp(width, ks1, ks2, ks3):\n",
    "    \n",
    "    inputs = Input(shape=(1, 136, 168, 168))\n",
    "    conv1 = Convolution3D(width, ks1[0], ks1[1], ks1[2], activation = 'relu', border_mode='same')(inputs)\n",
    "    conv1 = Convolution3D(width, ks1[0], ks1[1], ks1[2], activation = 'relu', border_mode='same')(conv1)\n",
    "    pool1 = MaxPooling3D(pool_size=(2, 2, 2), border_mode='same')(conv1)\n",
    "    \n",
    "    conv2 = Convolution3D(width, ks2[0], ks2[1], ks2[2], activation = 'relu', border_mode='same')(pool1)\n",
    "    conv2 = Convolution3D(width, ks2[0], ks2[1], ks2[2], activation = 'relu', border_mode='same')(conv2)\n",
    "    pool2 = MaxPooling3D(pool_size=(2, 2, 2), border_mode='same')(conv2)\n",
    "\n",
    "    conv3 = Convolution3D(width, ks3[0], ks3[1], ks3[2], activation = 'relu', border_mode='same')(pool2)\n",
    "    conv3 = Convolution3D(width, ks3[0], ks3[1], ks3[2], activation = 'relu', border_mode='same')(conv3)\n",
    "    pool3 = MaxPooling3D(pool_size=(2, 2, 2), border_mode='same')(conv3)\n",
    "    \n",
    "    output = Flatten(name='flatten')(pool3)\n",
    "    output = Dropout(0.2)(output)\n",
    "    output = Dense(128)(output)\n",
    "    output = PReLU()(output)\n",
    "    output = Dropout(0.2)(output)\n",
    "    output = Dense(128)(output)\n",
    "    output = PReLU()(output)\n",
    "    output = Dropout(0.3)(output)\n",
    "    output = Dense(2, activation='softmax', name = 'predictions')(output)\n",
    "    \n",
    "    model3d = Model(inputs, output)\n",
    "    model3d.compile(loss='categorical_crossentropy', optimizer = Adam(lr=5e-5), metrics = ['accuracy'])\n",
    "    return model3d"
   ]
  },
  {
   "cell_type": "code",
   "execution_count": null,
   "metadata": {
    "collapsed": true
   },
   "outputs": [],
   "source": [
    "def cnn3d(width, ks1, ks2, ks3):\n",
    "    \n",
    "    inputs = Input(shape=(1, 136, 168, 168))\n",
    "    conv1 = Convolution3D(width, ks1[0], ks1[1], ks1[2], activation = 'relu', border_mode='same')(inputs)\n",
    "    conv1 = Convolution3D(width, ks1[0], ks1[1], ks1[2], activation = 'relu', border_mode='same')(conv1)\n",
    "    pool1 = MaxPooling3D(pool_size=(2, 2, 2), border_mode='same')(conv1)\n",
    "    \n",
    "    conv2 = Convolution3D(width, ks2[0], ks2[1], ks2[2], activation = 'relu', border_mode='same')(pool1)\n",
    "    conv2 = Convolution3D(width, ks2[0], ks2[1], ks2[2], activation = 'relu', border_mode='same')(conv2)\n",
    "    pool2 = MaxPooling3D(pool_size=(2, 2, 2), border_mode='same')(conv2)\n",
    "\n",
    "    conv3 = Convolution3D(width, ks3[0], ks3[1], ks3[2], activation = 'relu', border_mode='same')(pool2)\n",
    "    conv3 = Convolution3D(width, ks3[0], ks3[1], ks3[2], activation = 'relu', border_mode='same')(conv3)\n",
    "    pool3 = MaxPooling3D(pool_size=(8, 8, 8), border_mode='same')(conv3)\n",
    "    \n",
    "    output = Flatten(name='flatten')(pool3)\n",
    "    output = Dropout(0.2)(output)\n",
    "    output = Dense(128)(output)\n",
    "    output = PReLU()(output)\n",
    "    output = Dropout(0.2)(output)\n",
    "    output = Dense(128)(output)\n",
    "    output = PReLU()(output)\n",
    "    output = Dropout(0.3)(output)\n",
    "    output = Dense(2, activation='softmax', name = 'predictions')(output)\n",
    "    \n",
    "    model3d = Model(inputs, output)\n",
    "    model3d.compile(loss='categorical_crossentropy', optimizer = Adam(lr=5e-5), metrics = ['accuracy'])\n",
    "    return model3d"
   ]
  },
  {
   "cell_type": "code",
   "execution_count": null,
   "metadata": {
    "collapsed": true,
    "deletable": true,
    "editable": true
   },
   "outputs": [],
   "source": [
    "start_train = 0\n",
    "end_train = 1398\n",
    "start_val = 1400\n",
    "end_val = 1595\n",
    "\n",
    "epochs = 20\n",
    "\n",
    "width = 16\n",
    "ks1 = (2, 2, 2)\n",
    "ks2 = ks3 = ks1"
   ]
  },
  {
   "cell_type": "code",
   "execution_count": null,
   "metadata": {
    "collapsed": false
   },
   "outputs": [],
   "source": [
    "cnn3d_genfit('DSB_class3d_preds3dexp', classifier(ks1, ks2), epochs, start_train, end_train, start_val, end_val, \n",
    "             end_train - start_train,\n",
    "             end_val - start_val)"
   ]
  },
  {
   "cell_type": "code",
   "execution_count": null,
   "metadata": {
    "collapsed": true,
    "deletable": true,
    "editable": true
   },
   "outputs": [],
   "source": [
    "cnn3d_genfit('DSB_class3d_preds3dexp', cnn3d(width, ks1, ks2, ks3), epochs, start_train, end_train, start_val, end_val, \n",
    "             end_train - start_train,\n",
    "             end_val - start_val)"
   ]
  },
  {
   "cell_type": "code",
   "execution_count": null,
   "metadata": {
    "collapsed": false,
    "deletable": true,
    "editable": true,
    "scrolled": true
   },
   "outputs": [],
   "source": [
    "cnn3d_genfit('DSB_class3d_preds3globalavg_1450pats', preds3d_globalavg_highlr(width), epochs, start_train, end_train, start_val, end_val, \n",
    "             end_train - start_train,\n",
    "             end_val - start_val)"
   ]
  },
  {
   "cell_type": "code",
   "execution_count": null,
   "metadata": {
    "collapsed": true,
    "deletable": true,
    "editable": true
   },
   "outputs": [],
   "source": []
  }
 ],
 "metadata": {
  "kernelspec": {
   "display_name": "Python 3",
   "language": "python",
   "name": "python3"
  },
  "language_info": {
   "codemirror_mode": {
    "name": "ipython",
    "version": 3
   },
   "file_extension": ".py",
   "mimetype": "text/x-python",
   "name": "python",
   "nbconvert_exporter": "python",
   "pygments_lexer": "ipython3",
   "version": "3.5.2"
  }
 },
 "nbformat": 4,
 "nbformat_minor": 2
}
