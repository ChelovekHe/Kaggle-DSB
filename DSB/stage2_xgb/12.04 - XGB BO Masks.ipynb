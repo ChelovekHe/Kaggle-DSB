{
 "cells": [
  {
   "cell_type": "code",
   "execution_count": null,
   "metadata": {
    "collapsed": false,
    "deletable": true,
    "editable": true
   },
   "outputs": [],
   "source": [
    "import os\n",
    "import numpy as np\n",
    "import pandas as pd\n",
    "import cv2\n",
    "import zarr\n",
    "import glob\n",
    "import time\n",
    "import matplotlib.pyplot as plt\n",
    "%matplotlib inline\n",
    "\n",
    "from sklearn.metrics import log_loss\n",
    "from sklearn.cross_validation import train_test_split\n",
    "import xgboost as xgb\n",
    "from bayes_opt import BayesianOptimization\n",
    "\n",
    "np.random.seed(1337)"
   ]
  },
  {
   "cell_type": "code",
   "execution_count": null,
   "metadata": {
    "collapsed": true,
    "deletable": true,
    "editable": true,
    "scrolled": true
   },
   "outputs": [],
   "source": [
    "X_train = np.load('2D_train0-1500_features_masks.npy')\n",
    "y_train = np.load('2D_train0-1500_labels_masks.npy')\n",
    "\n",
    "X_test = np.load('2D_valid1500-1595_features_masks.npy')\n",
    "y_test = np.load('2D_valid1500-1595_labels_masks.npy')\n",
    "\n",
    "stg2_feats = np.load('2D_stg2data_masks.npy')"
   ]
  },
  {
   "cell_type": "code",
   "execution_count": null,
   "metadata": {
    "collapsed": false,
    "deletable": true,
    "editable": true,
    "scrolled": false
   },
   "outputs": [],
   "source": [
    "def xgb_train_bo(max_depth, min_child_weight, subsample, colsample_bytree):\n",
    "    \n",
    "    xgb_model = xgb.XGBRegressor(max_depth = int(max_depth), min_child_weight = int(min_child_weight),\n",
    "                                 subsample = max(min(subsample, 1), 0), \n",
    "                                 colsample_bytree = max(min(colsample_bytree, 1), 0),\n",
    "                                 n_estimators = 5000, learning_rate = 0.05,\n",
    "                                 nthread = 6, seed = 1337)\n",
    "    \n",
    "    xgb_model.fit(X_train, y_train, eval_set=[(X_test, y_test)], verbose = 10, eval_metric='logloss',\n",
    "                  early_stopping_rounds = 50)\n",
    "    loss = log_loss(y_test, xgb_model.predict(X_test, ntree_limit = xgb_model.best_ntree_limit))\n",
    "    print('Logloss on test dataset:', loss)\n",
    "    return -loss\n",
    "\n",
    "\n",
    "xgbBO = BayesianOptimization(xgb_train_bo, {\n",
    "        'max_depth': (7, 14),\n",
    "        'min_child_weight': (20, 40),\n",
    "        'subsample': (0.4, 0.7),\n",
    "        'colsample_bytree': (0.4, 0.6),\n",
    "    })\n",
    "\n",
    "num_iter = 50\n",
    "init_points = 30\n",
    "\n",
    "xgbBO.maximize(init_points=init_points, n_iter=num_iter)\n",
    "\n",
    "print('XGB: %f' % xgbBO.res['max']['max_val'])"
   ]
  },
  {
   "cell_type": "code",
   "execution_count": null,
   "metadata": {
    "collapsed": true,
    "deletable": true,
    "editable": true
   },
   "outputs": [],
   "source": [
    "def xgb_train(X_train, X_valid, y_train, y_valid):\n",
    "    clf = xgb.XGBRegressor(max_depth=10,\n",
    "                           n_estimators=5000,\n",
    "                           min_child_weight=38,\n",
    "                           learning_rate=0.05,\n",
    "                           nthread=6,\n",
    "                           subsample=0.40,\n",
    "                           colsample_bytree=0.40,\n",
    "                           seed=1337)\n",
    "    clf.fit(X_train, y_train, eval_set=[(X_valid, y_valid)], verbose=10,\n",
    "            eval_metric='logloss', early_stopping_rounds=50)\n",
    "    return clf\n",
    "\n",
    "def make_submit(clf, X_test):\n",
    "    df = pd.read_csv('/home/w/DS_Projects/Kaggle/DS Bowl 2017/input_data/stage2_sample_submission.csv')\n",
    "    pred = clf.predict(X_test, ntree_limit = clf.best_ntree_limit)\n",
    "    df['cancer'] = pred\n",
    "    df.to_csv('stage2_sub_2DUNet_optimXGB_ver2_05858.csv', index=False)\n",
    "    print(df.head())\n",
    "    return"
   ]
  },
  {
   "cell_type": "code",
   "execution_count": null,
   "metadata": {
    "collapsed": false,
    "deletable": true,
    "editable": true
   },
   "outputs": [],
   "source": [
    "clf = xgb_train(X_train, X_test, y_train, y_test)"
   ]
  },
  {
   "cell_type": "code",
   "execution_count": null,
   "metadata": {
    "collapsed": false,
    "deletable": true,
    "editable": true
   },
   "outputs": [],
   "source": [
    "make_submit(clf, stg2_feats)"
   ]
  }
 ],
 "metadata": {
  "kernelspec": {
   "display_name": "Python 3",
   "language": "python",
   "name": "python3"
  },
  "language_info": {
   "codemirror_mode": {
    "name": "ipython",
    "version": 3
   },
   "file_extension": ".py",
   "mimetype": "text/x-python",
   "name": "python",
   "nbconvert_exporter": "python",
   "pygments_lexer": "ipython3",
   "version": "3.6.0"
  }
 },
 "nbformat": 4,
 "nbformat_minor": 2
}
